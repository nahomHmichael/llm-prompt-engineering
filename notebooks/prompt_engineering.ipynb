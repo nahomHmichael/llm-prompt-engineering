{
  "nbformat": 4,
  "nbformat_minor": 0,
  "metadata": {
    "colab": {
      "provenance": [],
      "collapsed_sections": [],
      "mount_file_id": "13XI6d7ap5uUT3GrnxDHTwrwa_FhNBKqB",
      "authorship_tag": "ABX9TyNKz9BuJ1yMj97qr4yCij5B",
      "include_colab_link": true
    },
    "kernelspec": {
      "name": "python3",
      "display_name": "Python 3"
    },
    "language_info": {
      "name": "python"
    },
    "accelerator": "GPU",
    "gpuClass": "standard"
  },
  "cells": [
    {
      "cell_type": "markdown",
      "metadata": {
        "id": "view-in-github",
        "colab_type": "text"
      },
      "source": [
        "<a href=\"https://colab.research.google.com/github/nahomHmichael/llm-prompt-engineering/blob/main/notebooks/prompt_engineering.ipynb\" target=\"_parent\"><img src=\"https://colab.research.google.com/assets/colab-badge.svg\" alt=\"Open In Colab\"/></a>"
      ]
    },
    {
      "cell_type": "code",
      "execution_count": 1,
      "metadata": {
        "colab": {
          "base_uri": "https://localhost:8080/"
        },
        "id": "qrqPfD_7vgM8",
        "outputId": "92c908a0-37d6-4aea-d104-a5c5234cfe0e"
      },
      "outputs": [
        {
          "output_type": "stream",
          "name": "stdout",
          "text": [
            "Looking in indexes: https://pypi.org/simple, https://us-python.pkg.dev/colab-wheels/public/simple/\n",
            "Collecting cohere\n",
            "  Downloading cohere-2.2.5.tar.gz (9.3 kB)\n",
            "Requirement already satisfied: requests in /usr/local/lib/python3.7/dist-packages (from cohere) (2.23.0)\n",
            "Requirement already satisfied: idna<3,>=2.5 in /usr/local/lib/python3.7/dist-packages (from requests->cohere) (2.10)\n",
            "Requirement already satisfied: chardet<4,>=3.0.2 in /usr/local/lib/python3.7/dist-packages (from requests->cohere) (3.0.4)\n",
            "Requirement already satisfied: certifi>=2017.4.17 in /usr/local/lib/python3.7/dist-packages (from requests->cohere) (2022.6.15)\n",
            "Requirement already satisfied: urllib3!=1.25.0,!=1.25.1,<1.26,>=1.21.1 in /usr/local/lib/python3.7/dist-packages (from requests->cohere) (1.24.3)\n",
            "Building wheels for collected packages: cohere\n",
            "  Building wheel for cohere (setup.py) ... \u001b[?25l\u001b[?25hdone\n",
            "  Created wheel for cohere: filename=cohere-2.2.5-cp37-cp37m-linux_x86_64.whl size=10453 sha256=e2e522358d3c6f7fa4ad076787f9a23c0b03e6ecc000214cb11ba1d7af777b20\n",
            "  Stored in directory: /root/.cache/pip/wheels/eb/19/2d/89553daf06bc949f1aeb4cfae6e1e306d7763b22ffe91e45fa\n",
            "Successfully built cohere\n",
            "Installing collected packages: cohere\n",
            "Successfully installed cohere-2.2.5\n",
            "Looking in indexes: https://pypi.org/simple, https://us-python.pkg.dev/colab-wheels/public/simple/\n",
            "Collecting transformers\n",
            "  Downloading transformers-4.22.0-py3-none-any.whl (4.9 MB)\n",
            "\u001b[K     |████████████████████████████████| 4.9 MB 7.0 MB/s \n",
            "\u001b[?25hRequirement already satisfied: packaging>=20.0 in /usr/local/lib/python3.7/dist-packages (from transformers) (21.3)\n",
            "Collecting huggingface-hub<1.0,>=0.9.0\n",
            "  Downloading huggingface_hub-0.9.1-py3-none-any.whl (120 kB)\n",
            "\u001b[K     |████████████████████████████████| 120 kB 66.7 MB/s \n",
            "\u001b[?25hRequirement already satisfied: requests in /usr/local/lib/python3.7/dist-packages (from transformers) (2.23.0)\n",
            "Requirement already satisfied: importlib-metadata in /usr/local/lib/python3.7/dist-packages (from transformers) (4.12.0)\n",
            "Requirement already satisfied: pyyaml>=5.1 in /usr/local/lib/python3.7/dist-packages (from transformers) (6.0)\n",
            "Collecting tokenizers!=0.11.3,<0.13,>=0.11.1\n",
            "  Downloading tokenizers-0.12.1-cp37-cp37m-manylinux_2_12_x86_64.manylinux2010_x86_64.whl (6.6 MB)\n",
            "\u001b[K     |████████████████████████████████| 6.6 MB 48.5 MB/s \n",
            "\u001b[?25hRequirement already satisfied: tqdm>=4.27 in /usr/local/lib/python3.7/dist-packages (from transformers) (4.64.1)\n",
            "Requirement already satisfied: regex!=2019.12.17 in /usr/local/lib/python3.7/dist-packages (from transformers) (2022.6.2)\n",
            "Requirement already satisfied: filelock in /usr/local/lib/python3.7/dist-packages (from transformers) (3.8.0)\n",
            "Requirement already satisfied: numpy>=1.17 in /usr/local/lib/python3.7/dist-packages (from transformers) (1.21.6)\n",
            "Requirement already satisfied: typing-extensions>=3.7.4.3 in /usr/local/lib/python3.7/dist-packages (from huggingface-hub<1.0,>=0.9.0->transformers) (4.1.1)\n",
            "Requirement already satisfied: pyparsing!=3.0.5,>=2.0.2 in /usr/local/lib/python3.7/dist-packages (from packaging>=20.0->transformers) (3.0.9)\n",
            "Requirement already satisfied: zipp>=0.5 in /usr/local/lib/python3.7/dist-packages (from importlib-metadata->transformers) (3.8.1)\n",
            "Requirement already satisfied: certifi>=2017.4.17 in /usr/local/lib/python3.7/dist-packages (from requests->transformers) (2022.6.15)\n",
            "Requirement already satisfied: urllib3!=1.25.0,!=1.25.1,<1.26,>=1.21.1 in /usr/local/lib/python3.7/dist-packages (from requests->transformers) (1.24.3)\n",
            "Requirement already satisfied: idna<3,>=2.5 in /usr/local/lib/python3.7/dist-packages (from requests->transformers) (2.10)\n",
            "Requirement already satisfied: chardet<4,>=3.0.2 in /usr/local/lib/python3.7/dist-packages (from requests->transformers) (3.0.4)\n",
            "Installing collected packages: tokenizers, huggingface-hub, transformers\n",
            "Successfully installed huggingface-hub-0.9.1 tokenizers-0.12.1 transformers-4.22.0\n"
          ]
        }
      ],
      "source": [
        "! pip install cohere\n",
        "! pip install transformers"
      ]
    },
    {
      "cell_type": "code",
      "source": [
        "import pandas as pd\n",
        "import cohere \n",
        "from cohere.classify import Example"
      ],
      "metadata": {
        "id": "QDWKQOr44A3U"
      },
      "execution_count": 2,
      "outputs": []
    },
    {
      "cell_type": "code",
      "source": [
        "import sys \n",
        "sys.path.insert(1, '/content/drive/MyDrive/llm/')"
      ],
      "metadata": {
        "id": "oUhjCpMIe_Ph"
      },
      "execution_count": 5,
      "outputs": []
    },
    {
      "cell_type": "code",
      "source": [
        "import co_key\n",
        "co = cohere.Client(co_key.x)"
      ],
      "metadata": {
        "id": "3YDmpEhEfYBn"
      },
      "execution_count": 6,
      "outputs": []
    },
    {
      "cell_type": "code",
      "source": [
        "#import cohere\n",
        "#from cohere.classify import Example\n",
        "co = cohere.Client(co_key.x)\n",
        "classifications = co.classify(\n",
        "  model='medium',\n",
        "  taskDescription='The following is a sentiment classifier regarding customer orders for an e-commerce company',\n",
        "  outputIndicator='this is:',\n",
        "  inputs=[\"This item was broken when it arrived\", \"This item broke after 3 weeks\"],\n",
        "  examples=[Example(\"The order came 5 days early\", \"positive\"), Example(\"The item exceeded my expectations\", \"positive\"), Example(\"I ordered more for my friends\", \"positive\"), Example(\"I would buy this again\", \"positive\"), Example(\"I would recommend this to others\", \"positive\"), Example(\"The package was damaged\", \"negative\"), Example(\"The order is 5 days late\", \"negative\"), Example(\"The order was incorrect\", \"negative\"), Example(\"I want to return my item\", \"negative\"), Example(\"The item\\'s material feels low quality\", \"negative\")])\n",
        "print('The confidence levels of the labels are: {}'.format(\n",
        "       classifications.classifications))"
      ],
      "metadata": {
        "colab": {
          "base_uri": "https://localhost:8080/"
        },
        "id": "3K6kWKaUgA0D",
        "outputId": "0a7c0b81-603b-4b78-8f4c-53867bded4ec"
      },
      "execution_count": 9,
      "outputs": [
        {
          "output_type": "stream",
          "name": "stdout",
          "text": [
            "The confidence levels of the labels are: [cohere.Classification {\n",
            "\tinput: This item was broken when it arrived\n",
            "\tprediction: negative\n",
            "\tconfidence: [cohere.Confidence {\n",
            "\tlabel: positive\n",
            "\tconfidence: 0.0672575\n",
            "}, cohere.Confidence {\n",
            "\tlabel: negative\n",
            "\tconfidence: 0.9327425\n",
            "}]\n",
            "}, cohere.Classification {\n",
            "\tinput: This item broke after 3 weeks\n",
            "\tprediction: negative\n",
            "\tconfidence: [cohere.Confidence {\n",
            "\tlabel: positive\n",
            "\tconfidence: 0.05968118\n",
            "}, cohere.Confidence {\n",
            "\tlabel: negative\n",
            "\tconfidence: 0.9403188\n",
            "}]\n",
            "}]\n"
          ]
        }
      ]
    },
    {
      "cell_type": "code",
      "source": [
        "df1 = pd.read_excel('/content/drive/MyDrive/llm/Example_data.xlsx')"
      ],
      "metadata": {
        "id": "J2xgxZclBDc5"
      },
      "execution_count": null,
      "outputs": []
    },
    {
      "cell_type": "code",
      "source": [
        "df1.head()"
      ],
      "metadata": {
        "colab": {
          "base_uri": "https://localhost:8080/",
          "height": 687
        },
        "id": "IAydy032l6ik",
        "outputId": "ebe23346-1fac-4226-9984-a248b76301ed"
      },
      "execution_count": null,
      "outputs": [
        {
          "output_type": "execute_result",
          "data": {
            "text/plain": [
              "                       Domain  \\\n",
              "0         rassegnastampa.news   \n",
              "1                 twitter.com   \n",
              "2             atpe-tchad.info   \n",
              "3  badbluetech.bitnamiapp.com   \n",
              "4           kryptogazette.com   \n",
              "\n",
              "                                               Title  \\\n",
              "0  Boris Johnson using a taxpayer-funded jet for ...   \n",
              "1  Stumbled across an interesting case, a woman f...   \n",
              "2  Marché Résines dans les peintures et revêtemen...   \n",
              "3        AI drives data analytics surge, study finds   \n",
              "4  Triacetin Vertrieb Markt 2021: Globale Unterne...   \n",
              "\n",
              "                                         Description  \\\n",
              "0  …often trigger a protest vote that can upset…t...   \n",
              "1  Stumbled across an interesting case, a woman f...   \n",
              "2  …COVID-19…COVID…COVID…COVID-19 et Post COVID…C...   \n",
              "3  …hate raiders' linked to automated harassment ...   \n",
              "4  …Abschnitten und Endanwendungen / Organisation...   \n",
              "\n",
              "                                                Body  \\\n",
              "0  Boris Johnson using a taxpayer-funded jet for ...   \n",
              "1  Stumbled across an interesting case, a woman f...   \n",
              "2  Le rapport d’étude de marché Résines dans les ...   \n",
              "3  How to drive the funnel through content market...   \n",
              "4  Global Triacetin Vertrieb-Markt 2021 von Herst...   \n",
              "\n",
              "                                                Link  \\\n",
              "0  https://rassegnastampa.news/boris-johnson-usin...   \n",
              "1  http://twitter.com/CoruscaKhaya/status/1435585...   \n",
              "2  http://atpe-tchad.info/2021/09/13/marche-resin...   \n",
              "3  http://badbluetech.bitnamiapp.com/p.php?sid=21...   \n",
              "4  https://kryptogazette.com/2021/09/08/triacetin...   \n",
              "\n",
              "                    timestamp  Analyst_Average_Score  Analyst_Rank  \\\n",
              "0  2021-09-09T18:17:46.258006                    0.0           4.0   \n",
              "1  2021-09-08T13:02:45.802298                    0.0           4.0   \n",
              "2  2021-09-13T07:32:46.244403                    0.0           4.0   \n",
              "3  2021-09-11T00:17:45.962605                    0.0           4.0   \n",
              "4  2021-09-08T12:47:46.078369                    0.0           4.0   \n",
              "\n",
              "   Reference_Final_Score  \n",
              "0                   1.96  \n",
              "1                  12.00  \n",
              "2                   0.05  \n",
              "3                   6.10  \n",
              "4                   0.13  "
            ],
            "text/html": [
              "\n",
              "  <div id=\"df-b4ee3a44-bc95-47a2-a19c-318d1fd435b4\">\n",
              "    <div class=\"colab-df-container\">\n",
              "      <div>\n",
              "<style scoped>\n",
              "    .dataframe tbody tr th:only-of-type {\n",
              "        vertical-align: middle;\n",
              "    }\n",
              "\n",
              "    .dataframe tbody tr th {\n",
              "        vertical-align: top;\n",
              "    }\n",
              "\n",
              "    .dataframe thead th {\n",
              "        text-align: right;\n",
              "    }\n",
              "</style>\n",
              "<table border=\"1\" class=\"dataframe\">\n",
              "  <thead>\n",
              "    <tr style=\"text-align: right;\">\n",
              "      <th></th>\n",
              "      <th>Domain</th>\n",
              "      <th>Title</th>\n",
              "      <th>Description</th>\n",
              "      <th>Body</th>\n",
              "      <th>Link</th>\n",
              "      <th>timestamp</th>\n",
              "      <th>Analyst_Average_Score</th>\n",
              "      <th>Analyst_Rank</th>\n",
              "      <th>Reference_Final_Score</th>\n",
              "    </tr>\n",
              "  </thead>\n",
              "  <tbody>\n",
              "    <tr>\n",
              "      <th>0</th>\n",
              "      <td>rassegnastampa.news</td>\n",
              "      <td>Boris Johnson using a taxpayer-funded jet for ...</td>\n",
              "      <td>…often trigger a protest vote that can upset…t...</td>\n",
              "      <td>Boris Johnson using a taxpayer-funded jet for ...</td>\n",
              "      <td>https://rassegnastampa.news/boris-johnson-usin...</td>\n",
              "      <td>2021-09-09T18:17:46.258006</td>\n",
              "      <td>0.0</td>\n",
              "      <td>4.0</td>\n",
              "      <td>1.96</td>\n",
              "    </tr>\n",
              "    <tr>\n",
              "      <th>1</th>\n",
              "      <td>twitter.com</td>\n",
              "      <td>Stumbled across an interesting case, a woman f...</td>\n",
              "      <td>Stumbled across an interesting case, a woman f...</td>\n",
              "      <td>Stumbled across an interesting case, a woman f...</td>\n",
              "      <td>http://twitter.com/CoruscaKhaya/status/1435585...</td>\n",
              "      <td>2021-09-08T13:02:45.802298</td>\n",
              "      <td>0.0</td>\n",
              "      <td>4.0</td>\n",
              "      <td>12.00</td>\n",
              "    </tr>\n",
              "    <tr>\n",
              "      <th>2</th>\n",
              "      <td>atpe-tchad.info</td>\n",
              "      <td>Marché Résines dans les peintures et revêtemen...</td>\n",
              "      <td>…COVID-19…COVID…COVID…COVID-19 et Post COVID…C...</td>\n",
              "      <td>Le rapport d’étude de marché Résines dans les ...</td>\n",
              "      <td>http://atpe-tchad.info/2021/09/13/marche-resin...</td>\n",
              "      <td>2021-09-13T07:32:46.244403</td>\n",
              "      <td>0.0</td>\n",
              "      <td>4.0</td>\n",
              "      <td>0.05</td>\n",
              "    </tr>\n",
              "    <tr>\n",
              "      <th>3</th>\n",
              "      <td>badbluetech.bitnamiapp.com</td>\n",
              "      <td>AI drives data analytics surge, study finds</td>\n",
              "      <td>…hate raiders' linked to automated harassment ...</td>\n",
              "      <td>How to drive the funnel through content market...</td>\n",
              "      <td>http://badbluetech.bitnamiapp.com/p.php?sid=21...</td>\n",
              "      <td>2021-09-11T00:17:45.962605</td>\n",
              "      <td>0.0</td>\n",
              "      <td>4.0</td>\n",
              "      <td>6.10</td>\n",
              "    </tr>\n",
              "    <tr>\n",
              "      <th>4</th>\n",
              "      <td>kryptogazette.com</td>\n",
              "      <td>Triacetin Vertrieb Markt 2021: Globale Unterne...</td>\n",
              "      <td>…Abschnitten und Endanwendungen / Organisation...</td>\n",
              "      <td>Global Triacetin Vertrieb-Markt 2021 von Herst...</td>\n",
              "      <td>https://kryptogazette.com/2021/09/08/triacetin...</td>\n",
              "      <td>2021-09-08T12:47:46.078369</td>\n",
              "      <td>0.0</td>\n",
              "      <td>4.0</td>\n",
              "      <td>0.13</td>\n",
              "    </tr>\n",
              "  </tbody>\n",
              "</table>\n",
              "</div>\n",
              "      <button class=\"colab-df-convert\" onclick=\"convertToInteractive('df-b4ee3a44-bc95-47a2-a19c-318d1fd435b4')\"\n",
              "              title=\"Convert this dataframe to an interactive table.\"\n",
              "              style=\"display:none;\">\n",
              "        \n",
              "  <svg xmlns=\"http://www.w3.org/2000/svg\" height=\"24px\"viewBox=\"0 0 24 24\"\n",
              "       width=\"24px\">\n",
              "    <path d=\"M0 0h24v24H0V0z\" fill=\"none\"/>\n",
              "    <path d=\"M18.56 5.44l.94 2.06.94-2.06 2.06-.94-2.06-.94-.94-2.06-.94 2.06-2.06.94zm-11 1L8.5 8.5l.94-2.06 2.06-.94-2.06-.94L8.5 2.5l-.94 2.06-2.06.94zm10 10l.94 2.06.94-2.06 2.06-.94-2.06-.94-.94-2.06-.94 2.06-2.06.94z\"/><path d=\"M17.41 7.96l-1.37-1.37c-.4-.4-.92-.59-1.43-.59-.52 0-1.04.2-1.43.59L10.3 9.45l-7.72 7.72c-.78.78-.78 2.05 0 2.83L4 21.41c.39.39.9.59 1.41.59.51 0 1.02-.2 1.41-.59l7.78-7.78 2.81-2.81c.8-.78.8-2.07 0-2.86zM5.41 20L4 18.59l7.72-7.72 1.47 1.35L5.41 20z\"/>\n",
              "  </svg>\n",
              "      </button>\n",
              "      \n",
              "  <style>\n",
              "    .colab-df-container {\n",
              "      display:flex;\n",
              "      flex-wrap:wrap;\n",
              "      gap: 12px;\n",
              "    }\n",
              "\n",
              "    .colab-df-convert {\n",
              "      background-color: #E8F0FE;\n",
              "      border: none;\n",
              "      border-radius: 50%;\n",
              "      cursor: pointer;\n",
              "      display: none;\n",
              "      fill: #1967D2;\n",
              "      height: 32px;\n",
              "      padding: 0 0 0 0;\n",
              "      width: 32px;\n",
              "    }\n",
              "\n",
              "    .colab-df-convert:hover {\n",
              "      background-color: #E2EBFA;\n",
              "      box-shadow: 0px 1px 2px rgba(60, 64, 67, 0.3), 0px 1px 3px 1px rgba(60, 64, 67, 0.15);\n",
              "      fill: #174EA6;\n",
              "    }\n",
              "\n",
              "    [theme=dark] .colab-df-convert {\n",
              "      background-color: #3B4455;\n",
              "      fill: #D2E3FC;\n",
              "    }\n",
              "\n",
              "    [theme=dark] .colab-df-convert:hover {\n",
              "      background-color: #434B5C;\n",
              "      box-shadow: 0px 1px 3px 1px rgba(0, 0, 0, 0.15);\n",
              "      filter: drop-shadow(0px 1px 2px rgba(0, 0, 0, 0.3));\n",
              "      fill: #FFFFFF;\n",
              "    }\n",
              "  </style>\n",
              "\n",
              "      <script>\n",
              "        const buttonEl =\n",
              "          document.querySelector('#df-b4ee3a44-bc95-47a2-a19c-318d1fd435b4 button.colab-df-convert');\n",
              "        buttonEl.style.display =\n",
              "          google.colab.kernel.accessAllowed ? 'block' : 'none';\n",
              "\n",
              "        async function convertToInteractive(key) {\n",
              "          const element = document.querySelector('#df-b4ee3a44-bc95-47a2-a19c-318d1fd435b4');\n",
              "          const dataTable =\n",
              "            await google.colab.kernel.invokeFunction('convertToInteractive',\n",
              "                                                     [key], {});\n",
              "          if (!dataTable) return;\n",
              "\n",
              "          const docLinkHtml = 'Like what you see? Visit the ' +\n",
              "            '<a target=\"_blank\" href=https://colab.research.google.com/notebooks/data_table.ipynb>data table notebook</a>'\n",
              "            + ' to learn more about interactive tables.';\n",
              "          element.innerHTML = '';\n",
              "          dataTable['output_type'] = 'display_data';\n",
              "          await google.colab.output.renderOutput(dataTable, element);\n",
              "          const docLink = document.createElement('div');\n",
              "          docLink.innerHTML = docLinkHtml;\n",
              "          element.appendChild(docLink);\n",
              "        }\n",
              "      </script>\n",
              "    </div>\n",
              "  </div>\n",
              "  "
            ]
          },
          "metadata": {},
          "execution_count": 7
        }
      ]
    },
    {
      "cell_type": "code",
      "source": [
        "df1.info()"
      ],
      "metadata": {
        "colab": {
          "base_uri": "https://localhost:8080/"
        },
        "id": "9hiP_XplmEvD",
        "outputId": "74a6b5a0-6fdf-4a4c-cc95-292d8551384e"
      },
      "execution_count": null,
      "outputs": [
        {
          "output_type": "stream",
          "name": "stdout",
          "text": [
            "<class 'pandas.core.frame.DataFrame'>\n",
            "RangeIndex: 10 entries, 0 to 9\n",
            "Data columns (total 9 columns):\n",
            " #   Column                 Non-Null Count  Dtype  \n",
            "---  ------                 --------------  -----  \n",
            " 0   Domain                 10 non-null     object \n",
            " 1   Title                  10 non-null     object \n",
            " 2   Description            10 non-null     object \n",
            " 3   Body                   10 non-null     object \n",
            " 4   Link                   10 non-null     object \n",
            " 5   timestamp              10 non-null     object \n",
            " 6   Analyst_Average_Score  10 non-null     float64\n",
            " 7   Analyst_Rank           10 non-null     float64\n",
            " 8   Reference_Final_Score  10 non-null     float64\n",
            "dtypes: float64(3), object(6)\n",
            "memory usage: 848.0+ bytes\n"
          ]
        }
      ]
    },
    {
      "cell_type": "code",
      "source": [
        "df1.isnull().sum()"
      ],
      "metadata": {
        "colab": {
          "base_uri": "https://localhost:8080/"
        },
        "id": "4IewD--rmKWs",
        "outputId": "ab3b8fa1-40bd-40d4-d689-28a9652d8c82"
      },
      "execution_count": null,
      "outputs": [
        {
          "output_type": "execute_result",
          "data": {
            "text/plain": [
              "Domain                   0\n",
              "Title                    0\n",
              "Description              0\n",
              "Body                     0\n",
              "Link                     0\n",
              "timestamp                0\n",
              "Analyst_Average_Score    0\n",
              "Analyst_Rank             0\n",
              "Reference_Final_Score    0\n",
              "dtype: int64"
            ]
          },
          "metadata": {},
          "execution_count": 9
        }
      ]
    },
    {
      "cell_type": "code",
      "source": [
        "import matplotlib.pyplot as plt\n"
      ],
      "metadata": {
        "id": "0WjcOhfCmNud"
      },
      "execution_count": null,
      "outputs": []
    },
    {
      "cell_type": "code",
      "source": [],
      "metadata": {
        "id": "Y78XEaaCmZgG"
      },
      "execution_count": null,
      "outputs": []
    }
  ]
}