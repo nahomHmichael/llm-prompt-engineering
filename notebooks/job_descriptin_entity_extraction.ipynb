{
 "cells": [
  {
   "cell_type": "code",
   "execution_count": 1,
   "metadata": {},
   "outputs": [],
   "source": [
    "import pandas as pd\n",
    "import numpy as np\n",
    "import cohere \n",
    "import sys, os\n",
    "sys.path.append(os.path.abspath(os.path.join('../scripts')))\n",
    "from co_key import *\n"
   ]
  },
  {
   "cell_type": "code",
   "execution_count": 2,
   "metadata": {},
   "outputs": [],
   "source": [
    "train_data = pd.read_json('../data/relations_dev.json')\n",
    "test_data = pd.read_json('../data/relations_test.json')"
   ]
  },
  {
   "cell_type": "code",
   "execution_count": 3,
   "metadata": {},
   "outputs": [
    {
     "data": {
      "text/html": [
       "<div>\n",
       "<style scoped>\n",
       "    .dataframe tbody tr th:only-of-type {\n",
       "        vertical-align: middle;\n",
       "    }\n",
       "\n",
       "    .dataframe tbody tr th {\n",
       "        vertical-align: top;\n",
       "    }\n",
       "\n",
       "    .dataframe thead th {\n",
       "        text-align: right;\n",
       "    }\n",
       "</style>\n",
       "<table border=\"1\" class=\"dataframe\">\n",
       "  <thead>\n",
       "    <tr style=\"text-align: right;\">\n",
       "      <th></th>\n",
       "      <th>document</th>\n",
       "      <th>tokens</th>\n",
       "      <th>relations</th>\n",
       "    </tr>\n",
       "  </thead>\n",
       "  <tbody>\n",
       "    <tr>\n",
       "      <th>0</th>\n",
       "      <td>Bachelor's degree in Mechanical Engineering or...</td>\n",
       "      <td>[{'text': 'Bachelor', 'start': 0, 'end': 8, 't...</td>\n",
       "      <td>[{'child': 4, 'head': 0, 'relationLabel': 'DEG...</td>\n",
       "    </tr>\n",
       "    <tr>\n",
       "      <th>1</th>\n",
       "      <td>10+ years of software engineering work experie...</td>\n",
       "      <td>[{'text': '10+ years', 'start': 0, 'end': 9, '...</td>\n",
       "      <td>[{'child': 4, 'head': 0, 'relationLabel': 'EXP...</td>\n",
       "    </tr>\n",
       "    <tr>\n",
       "      <th>2</th>\n",
       "      <td>3+ years Swift &amp; Objective-C and experience wi...</td>\n",
       "      <td>[{'text': '3+ years', 'start': 0, 'end': 8, 't...</td>\n",
       "      <td>[{'child': 3, 'head': 0, 'relationLabel': 'EXP...</td>\n",
       "    </tr>\n",
       "    <tr>\n",
       "      <th>3</th>\n",
       "      <td>8+ years experience in software engineering le...</td>\n",
       "      <td>[{'text': '8+ years', 'start': 0, 'end': 8, 't...</td>\n",
       "      <td>[{'child': 5, 'head': 0, 'relationLabel': 'EXP...</td>\n",
       "    </tr>\n",
       "    <tr>\n",
       "      <th>4</th>\n",
       "      <td>BS degree in Computer Science or related field...</td>\n",
       "      <td>[{'text': 'BS', 'start': 0, 'end': 2, 'token_s...</td>\n",
       "      <td>[{'child': 3, 'head': 0, 'relationLabel': 'DEG...</td>\n",
       "    </tr>\n",
       "  </tbody>\n",
       "</table>\n",
       "</div>"
      ],
      "text/plain": [
       "                                            document  \\\n",
       "0  Bachelor's degree in Mechanical Engineering or...   \n",
       "1  10+ years of software engineering work experie...   \n",
       "2  3+ years Swift & Objective-C and experience wi...   \n",
       "3  8+ years experience in software engineering le...   \n",
       "4  BS degree in Computer Science or related field...   \n",
       "\n",
       "                                              tokens  \\\n",
       "0  [{'text': 'Bachelor', 'start': 0, 'end': 8, 't...   \n",
       "1  [{'text': '10+ years', 'start': 0, 'end': 9, '...   \n",
       "2  [{'text': '3+ years', 'start': 0, 'end': 8, 't...   \n",
       "3  [{'text': '8+ years', 'start': 0, 'end': 8, 't...   \n",
       "4  [{'text': 'BS', 'start': 0, 'end': 2, 'token_s...   \n",
       "\n",
       "                                           relations  \n",
       "0  [{'child': 4, 'head': 0, 'relationLabel': 'DEG...  \n",
       "1  [{'child': 4, 'head': 0, 'relationLabel': 'EXP...  \n",
       "2  [{'child': 3, 'head': 0, 'relationLabel': 'EXP...  \n",
       "3  [{'child': 5, 'head': 0, 'relationLabel': 'EXP...  \n",
       "4  [{'child': 3, 'head': 0, 'relationLabel': 'DEG...  "
      ]
     },
     "execution_count": 3,
     "metadata": {},
     "output_type": "execute_result"
    }
   ],
   "source": [
    "train_data.head()"
   ]
  },
  {
   "cell_type": "code",
   "execution_count": 4,
   "metadata": {},
   "outputs": [],
   "source": [
    "train = '../data/cleaned_train_job_data.json'\n",
    "test = '../data/cleaned_test_job_data.json'"
   ]
  },
  {
   "cell_type": "code",
   "execution_count": 5,
   "metadata": {},
   "outputs": [],
   "source": [
    "import json\n",
    "\n",
    "\n",
    "with open (train, 'r') as f:\n",
    "    train_clean = json.loads(f.read())\n",
    "with open (test , 'r') as f:\n",
    "    test_clean = json.loads(f.read())"
   ]
  },
  {
   "cell_type": "code",
   "execution_count": 6,
   "metadata": {},
   "outputs": [
    {
     "data": {
      "text/plain": [
       "{'document': \"Bachelor's degree in Mechanical Engineering or Physical Science 3+ years track record of developing or specifying fiber optic cables and connector related products Knowledge of fiber optic component, cabling, and interconnect products, technologies, and standards Experience in statistical data analysis Experience with product life cycle management (PLM) process Experience providing solutions to problems and meeting deadlines Experience engaging stakeholders PREFERRED Advanced degree Experience using a software tool for statistical data analysis such as JMP Experience using Agile as product life-cycle management tool Data center or other mission critical development experience\",\n",
       " 'tokens': [{'text': 'Bachelor', 'entityLabel': 'DIPLOMA'},\n",
       "  {'text': 'Mechanical Engineering', 'entityLabel': 'DIPLOMA_MAJOR'},\n",
       "  {'text': 'Physical Science', 'entityLabel': 'DIPLOMA_MAJOR'},\n",
       "  {'text': '3+ years', 'entityLabel': 'EXPERIENCE'},\n",
       "  {'text': 'developing', 'entityLabel': 'SKILLS'},\n",
       "  {'text': 'fiber optic cables', 'entityLabel': 'SKILLS'},\n",
       "  {'text': 'connector related products', 'entityLabel': 'SKILLS'}]}"
      ]
     },
     "execution_count": 6,
     "metadata": {},
     "output_type": "execute_result"
    }
   ],
   "source": [
    "train_clean[0]"
   ]
  },
  {
   "cell_type": "code",
   "execution_count": 7,
   "metadata": {},
   "outputs": [],
   "source": [
    "co = cohere.Client(x)\n"
   ]
  },
  {
   "cell_type": "code",
   "execution_count": 8,
   "metadata": {},
   "outputs": [],
   "source": [
    "class Promptor:\n",
    "    def __init__(self) -> None:\n",
    "        pass    \n",
    "    def extract_values(self, data):\n",
    "            #extract the values from each json dictionaries and convert them to a prompt types\n",
    "        s = ''\n",
    "        for d in data:\n",
    "            s+='Job Description: '\n",
    "            s+=str(d['document']).strip().replace('\\n', ' ').strip()\n",
    "            s+='\\n'\n",
    "            \n",
    "                #Extract entities from tokens\n",
    "            token_dict = {}\n",
    "            for token in d['tokens']:\n",
    "                entity_label = token['entityLabel']\n",
    "                if entity_label in token_dict.keys():\n",
    "                    token_dict[entity_label] += f\",{token['text']}\"\n",
    "                else:\n",
    "                    token_dict[entity_label] = f\"{token['text']}\"\n",
    "            dict_str = ''\n",
    "            for key,value in token_dict.items():\n",
    "                dict_str+=f\"{key}: {value}\\n\"\n",
    "            s+=dict_str\n",
    "            s+='\\n--\\n'\n",
    "        return s\n",
    "prompting = Promptor()\n"
   ]
  },
  {
   "cell_type": "code",
   "execution_count": 9,
   "metadata": {},
   "outputs": [],
   "source": [
    "values = prompting.extract_values(train_clean)\n",
    "with open('../data/train_finetune.txt','w') as f:\n",
    "    f.write(values)"
   ]
  },
  {
   "cell_type": "code",
   "execution_count": 10,
   "metadata": {},
   "outputs": [],
   "source": [
    "value = prompting.extract_values(test_clean)\n",
    "with open('../data/test_finetune.txt','w') as f:\n",
    "    f.write(value)"
   ]
  },
  {
   "cell_type": "code",
   "execution_count": 12,
   "metadata": {},
   "outputs": [],
   "source": [
    "val = prompting.extract_values(train_clean[:5])"
   ]
  },
  {
   "cell_type": "code",
   "execution_count": 13,
   "metadata": {},
   "outputs": [
    {
     "data": {
      "text/plain": [
       "\"Job Description: Bachelor's degree in Mechanical Engineering or Physical Science 3+ years track record of developing or specifying fiber optic cables and connector related products Knowledge of fiber optic component, cabling, and interconnect products, technologies, and standards Experience in statistical data analysis Experience with product life cycle management (PLM) process Experience providing solutions to problems and meeting deadlines Experience engaging stakeholders PREFERRED Advanced degree Experience using a software tool for statistical data analysis such as JMP Experience using Agile as product life-cycle management tool Data center or other mission critical development experience\\nDIPLOMA: Bachelor\\nDIPLOMA_MAJOR: Mechanical Engineering,Physical Science\\nEXPERIENCE: 3+ years\\nSKILLS: developing,fiber optic cables,connector related products\\n\\n--\\nJob Description: 10+ years of software engineering work experience. Technical experience in release automation engineering, CI/CD or related roles. Experience building and leading a software organization through product design, delivery and commercialization of consumer electronics devices. Experience recruiting and managing technical teams, including performance management. BS/MS in Computer Science. Experience in leading timeline, multi-partner initiatives. Organizational communication and coordination experience. PREFERRED 5+ years of experience with hands-on technical management, release engineering, tools engineering, DevOps, or related area.\\nEXPERIENCE: 10+ years,5+ years\\nSKILLS: software engineering,technical management,release engineering,tools engineering,DevOps\\nDIPLOMA: BS/MS\\nDIPLOMA_MAJOR: Computer Science\\n\\n--\\nJob Description: 3+ years Swift & Objective-C and experience with iOS internals Experience building an entire app from scratch and ideally a portfolio of apps featured in the App Store Someone who knows every trick in the book on UI transitions, network communication and memory/battery efficiency Strong UI/design skill experience is a plus\\nEXPERIENCE: 3+ years\\nSKILLS: Swift & Objective-C\\n\\n--\\nJob Description: 8+ years experience in software engineering leadership 5+ years people management experience including managing leaders and managing remotely across regions Strategic thinker with proven track record of transforming operations to provide customer experience through innovation and improvement Track record of working with VP, C-level Executives Experience deploying operational support models across enterprise organizations Communication/presentations experience Experience working with all levels of management internally and externally Experience meeting objectives in an entrepreneurial environment Collaboration and relationship-building experience BA/BS degree or higher\\nEXPERIENCE: 8+ years,5+ years\\nSKILLS: software engineering,people management,managing leaders\\n\\n--\\nJob Description: BS degree in Computer Science or related field. 7+ years C++ experience, including C++11 features and principles. 5+ years experience creating software for real-time environments such as games or robotics. 2+ years experience managing software engineers. Proven track record of software development, including shipping one or more products on large code bases that span platforms and tools. Problem solving and optimization experience. Communication experience and demonstrated experience working across disciplines and teams to drive solutions. PREFERRED Hands-on experience with 3D computer vision algorithms including Calibration, SLAM, Reconstruction, Mapping, Localization, Sensor Fusion, State Estimation and Image Processing Experience with designing (products or open-source/git software) of inertial/optical sensing devices Publication in leading workshops or conferences such as CVPR, ECCV, ICCV, SIGGRAPH, ICCP, RSS, ICRA, etc.\\nDIPLOMA: BS\\nDIPLOMA_MAJOR: Computer Science\\nEXPERIENCE: 7+ years,5+ years,2+ years\\nSKILLS: C++,C++11,creating software for real-time environments,games,robotics,managing software engineers\\n\\n--\\n\\nJob Description: BA/BS\\n5+ years of program or project management experience\\n2+ years of technical project/program management experience\\nTrack record of operating independently\\nExperience understanding user needs, gathering requirements, and defining scope\\nCommunication experience interacting with a variety of audiences from engineers, to vendors, to research leaders\\nTrack record of building cross-functional relationships\\n\\nPREFERRED \\nExperience working with UX Research and/or UX Design\""
      ]
     },
     "execution_count": 13,
     "metadata": {},
     "output_type": "execute_result"
    }
   ],
   "source": [
    "prompt = f\"{val} Job Description: {train_clean[1]['document'].strip()}\"\n",
    "prompt\n"
   ]
  },
  {
   "cell_type": "code",
   "execution_count": 15,
   "metadata": {},
   "outputs": [
    {
     "name": "stdout",
     "output_type": "stream",
     "text": [
      "Prediction:  teams\n",
      "Experience with Agile/Scrum\n",
      "Experience with user testing and user research\n",
      "Experience with product management or product development\n",
      "Experience with Agile/Scrum\n",
      "Experience with user testing and user research\n",
      "Experience with product management or product development\n",
      "\n",
      "--\n"
     ]
    }
   ],
   "source": [
    "response = co.generate( \n",
    "model='large', \n",
    "prompt=prompt,\n",
    "max_tokens=400, \n",
    "temperature=0.5, \n",
    "k=0, \n",
    "p=1, \n",
    "frequency_penalty=0, \n",
    "presence_penalty=0, \n",
    "stop_sequences=[\"--\"], \n",
    "return_likelihoods='NONE') \n",
    "print('Prediction: {}'.format(response.generations[0].text))"
   ]
  },
  {
   "cell_type": "code",
   "execution_count": null,
   "metadata": {},
   "outputs": [],
   "source": []
  },
  {
   "cell_type": "code",
   "execution_count": null,
   "metadata": {},
   "outputs": [],
   "source": []
  },
  {
   "cell_type": "code",
   "execution_count": null,
   "metadata": {},
   "outputs": [],
   "source": []
  },
  {
   "cell_type": "code",
   "execution_count": null,
   "metadata": {},
   "outputs": [],
   "source": []
  },
  {
   "cell_type": "markdown",
   "metadata": {},
   "source": []
  }
 ],
 "metadata": {
  "kernelspec": {
   "display_name": "Python 3.10.4 ('main_env')",
   "language": "python",
   "name": "python3"
  },
  "language_info": {
   "codemirror_mode": {
    "name": "ipython",
    "version": 3
   },
   "file_extension": ".py",
   "mimetype": "text/x-python",
   "name": "python",
   "nbconvert_exporter": "python",
   "pygments_lexer": "ipython3",
   "version": "3.10.4"
  },
  "orig_nbformat": 4,
  "vscode": {
   "interpreter": {
    "hash": "45dd846b58a064bf401340291c312e8bdf22eadd782e7ef5cc3c9674e177d0f2"
   }
  }
 },
 "nbformat": 4,
 "nbformat_minor": 2
}
